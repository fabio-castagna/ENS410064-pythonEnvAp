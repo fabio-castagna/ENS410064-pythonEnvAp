{
 "cells": [
  {
   "cell_type": "markdown",
   "id": "6397adf8-88b2-466b-82d3-2624e8da7a00",
   "metadata": {},
   "source": [
    "# Primeiro codigo em \n",
    "\n",
    "Este é o primeiro código e nesta aula aprenderemos o que é um markdown, code e declararemos as variáveis em python"
   ]
  },
  {
   "cell_type": "markdown",
   "id": "f67cbcba-3c9a-47b9-97a4-0a805208287d",
   "metadata": {},
   "source": [
    "## Tipos de dados\n",
    "* string\n",
    "* integer\n",
    "* float\n",
    "* NaN\n",
    "  "
   ]
  },
  {
   "cell_type": "markdown",
   "id": "acfd892b-50c1-47cf-afb4-041820b5327d",
   "metadata": {},
   "source": [
    "### String - str"
   ]
  },
  {
   "cell_type": "code",
   "execution_count": 3,
   "id": "72333e6c-23bf-4d5f-bad5-49d60180b68b",
   "metadata": {},
   "outputs": [],
   "source": [
    "#criando uma veriável utilizando uma variável str\n",
    "names = \"Felipe\""
   ]
  },
  {
   "cell_type": "code",
   "execution_count": 9,
   "id": "73c00c4f-f3ff-497f-9de7-901275a85ca4",
   "metadata": {},
   "outputs": [
    {
     "name": "stdout",
     "output_type": "stream",
     "text": [
      "Felipe\n",
      "nomes com o tipo:<class 'str'>\n"
     ]
    }
   ],
   "source": [
    "#utilizando o comando print\n",
    "print (names)\n",
    "\n",
    "# utilizando o comando type\n",
    "print (\"nomes com o tipo:\" + str(type(names)))"
   ]
  },
  {
   "cell_type": "code",
   "execution_count": null,
   "id": "9d1ef174-3436-45ab-8857-8d2174d968e4",
   "metadata": {},
   "outputs": [],
   "source": []
  }
 ],
 "metadata": {
  "kernelspec": {
   "display_name": "Python 3 (ipykernel)",
   "language": "python",
   "name": "python3"
  },
  "language_info": {
   "codemirror_mode": {
    "name": "ipython",
    "version": 3
   },
   "file_extension": ".py",
   "mimetype": "text/x-python",
   "name": "python",
   "nbconvert_exporter": "python",
   "pygments_lexer": "ipython3",
   "version": "3.11.5"
  }
 },
 "nbformat": 4,
 "nbformat_minor": 5
}
